{
 "cells": [
  {
   "cell_type": "code",
   "execution_count": 1,
   "metadata": {},
   "outputs": [
    {
     "name": "stderr",
     "output_type": "stream",
     "text": [
      "Using TensorFlow backend.\n"
     ]
    }
   ],
   "source": [
    "from __future__ import print_function\n",
    "from hyperopt import Trials, STATUS_OK, tpe\n",
    "from hyperas import optim\n",
    "from hyperas.distributions import choice, uniform\n",
    "from keras.layers.core import Dense, Dropout, Activation\n",
    "from keras.optimizers import RMSprop\n",
    "from keras.utils import np_utils\n",
    "from keras.wrappers.scikit_learn import KerasRegressor\n",
    "from sklearn.model_selection import cross_val_score\n",
    "from sklearn.model_selection import KFold\n",
    "from sklearn.preprocessing import StandardScaler\n",
    "from sklearn.pipeline import Pipeline\n",
    "from keras.layers import Input\n",
    "from keras.models import Model\n",
    "from sklearn import preprocessing\n",
    "from sklearn.metrics import mean_squared_error\n",
    "from keras.optimizers import Adam\n",
    "from keras.constraints import maxnorm\n"
   ]
  },
  {
   "cell_type": "code",
   "execution_count": 2,
   "metadata": {},
   "outputs": [],
   "source": [
    "from keras.models import Sequential\n",
    "from keras.layers import Dense, GRU"
   ]
  },
  {
   "cell_type": "code",
   "execution_count": 3,
   "metadata": {},
   "outputs": [],
   "source": [
    "def data():\n",
    "    import numpy as np\n",
    "    import pandas as pd\n",
    "    from sklearn.model_selection import train_test_split\n",
    "    # if data set not in the same folder as this code then add the complete path of the data to pandas.read_csv()\n",
    "    X = pd.read_csv(\"data_multi_final.csv\")\n",
    "    Y= X[[\"beta\", \"gamma\"]]\n",
    "    X = X.iloc[:, 1:19]\n",
    "    X.drop([\"X1.10000\"], axis=1, inplace=True)\n",
    "    X_train, X_test, Y_train, Y_test = train_test_split(X, Y, train_size=8000, test_size=2000, random_state=4)\n",
    "    X_train = np.array(X_train)\n",
    "    X_train = X_train[:, :, np.newaxis]\n",
    "    X_test = np.array(X_test)\n",
    "    X_test = X_test[:, :, np.newaxis]\n",
    "    return X_train, Y_train, X_test, Y_test"
   ]
  },
  {
   "cell_type": "code",
   "execution_count": 4,
   "metadata": {},
   "outputs": [],
   "source": [
    "def model(X_train, Y_train, X_test, Y_test):\n",
    "    main_input = Input(shape=(17,1), name='main_input')\n",
    "    lstm_out = GRU({{choice([50, 100, 200, 300])}}, dropout={{choice([0, 0.1, 0.2, 0.3])}}, recurrent_dropout={{choice([0, 0.1, 0.2, 0.3])}})(main_input)\n",
    "    out1 = Dense(1,  activation='linear', name='out1')(lstm_out)\n",
    "    out2 = Dense(1,  activation='linear',name='out2')(lstm_out)\n",
    "    model = Model(inputs=main_input, outputs=[out1,out2])\n",
    "    adam = keras.optimizers.Adam(lr={{choice([10**-3, 10**-2, 10**-4, 10**-5])}})\n",
    "    model.compile(optimizer = adam,\n",
    "                   loss={'out1':'mean_squared_error', 'out2':'mean_squared_error'})\n",
    "    model.fit({'main_input':X_train}, {'out1':Y_train['beta'], 'out2':Y_train['gamma']},\n",
    "               nb_epoch={{choice([100, 200])}},\n",
    "               batch_size={{choice([10, 20,30, 40])}},\n",
    "               verbose=2,\n",
    "               validation_data=(X_test, [Y_test['beta'], Y_test['gamma']]))\n",
    "\n",
    "    scores = model.evaluate(X_test,[Y_test['beta'], Y_test['gamma']])\n",
    "    return {'loss': scores[0], 'status': STATUS_OK, 'model': model}"
   ]
  },
  {
   "cell_type": "code",
   "execution_count": 1,
   "metadata": {},
   "outputs": [],
   "source": [
    "X_train, Y_train, X_test, Y_test = data()\n",
    "\n",
    "best_run_lstm, best_model_lstm = optim.minimize(model=model,\n",
    "                                      data=data,\n",
    "                                      algo=tpe.suggest,\n",
    "                                      max_evals=31,\n",
    "                                      trials=Trials(),\n",
    "                                      notebook_name='HyperasGRU')"
   ]
  },
  {
   "cell_type": "code",
   "execution_count": 7,
   "metadata": {},
   "outputs": [
    {
     "data": {
      "text/plain": [
       "{'GRU': 1,\n",
       " 'batch_size': 0,\n",
       " 'dropout': 0,\n",
       " 'dropout_1': 1,\n",
       " 'lr': 2,\n",
       " 'nb_epoch': 1}"
      ]
     },
     "execution_count": 7,
     "metadata": {},
     "output_type": "execute_result"
    }
   ],
   "source": [
    "best_run_lstm"
   ]
  },
  {
   "cell_type": "code",
   "execution_count": 8,
   "metadata": {},
   "outputs": [
    {
     "name": "stdout",
     "output_type": "stream",
     "text": [
      "__________________________________________________________________________________________________\n",
      "Layer (type)                    Output Shape         Param #     Connected to                     \n",
      "==================================================================================================\n",
      "main_input (InputLayer)         (None, 17, 1)        0                                            \n",
      "__________________________________________________________________________________________________\n",
      "gru_31 (GRU)                    (None, 100)          30600       main_input[0][0]                 \n",
      "__________________________________________________________________________________________________\n",
      "out1 (Dense)                    (None, 1)            101         gru_31[0][0]                     \n",
      "__________________________________________________________________________________________________\n",
      "out2 (Dense)                    (None, 1)            101         gru_31[0][0]                     \n",
      "==================================================================================================\n",
      "Total params: 30,802\n",
      "Trainable params: 30,802\n",
      "Non-trainable params: 0\n",
      "__________________________________________________________________________________________________\n"
     ]
    }
   ],
   "source": [
    "best_model_lstm.summary()"
   ]
  },
  {
   "cell_type": "code",
   "execution_count": null,
   "metadata": {},
   "outputs": [],
   "source": []
  },
  {
   "cell_type": "code",
   "execution_count": null,
   "metadata": {},
   "outputs": [],
   "source": []
  }
 ],
 "metadata": {
  "kernelspec": {
   "display_name": "Python 3",
   "language": "python",
   "name": "python3"
  },
  "language_info": {
   "codemirror_mode": {
    "name": "ipython",
    "version": 3
   },
   "file_extension": ".py",
   "mimetype": "text/x-python",
   "name": "python",
   "nbconvert_exporter": "python",
   "pygments_lexer": "ipython3",
   "version": "3.6.8"
  }
 },
 "nbformat": 4,
 "nbformat_minor": 2
}
